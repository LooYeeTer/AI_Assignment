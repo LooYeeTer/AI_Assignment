{
 "cells": [
  {
   "cell_type": "markdown",
   "id": "ed7d3065-75bb-4e3d-9724-a2ad5b9f1e89",
   "metadata": {},
   "source": [
    "## Section 1 Data Preparation"
   ]
  },
  {
   "cell_type": "code",
   "execution_count": 3,
   "id": "789e40b7-c550-4c48-b46a-4edf12cf968e",
   "metadata": {},
   "outputs": [],
   "source": [
    "#library for data processing\n",
    "import streamlit as st\n",
    "import pandas as pd\n",
    "\n",
    "# library to make the recommendation system model\n",
    "from sklearn.feature_extraction.text import TfidfVectorizer\n",
    "from sklearn.metrics.pairwise import cosine_similarity"
   ]
  },
  {
   "cell_type": "code",
   "execution_count": 5,
   "id": "b0d82f92-7a2d-4655-9b8f-0d8dc61156ed",
   "metadata": {},
   "outputs": [],
   "source": [
    "# Load the data for content-based recommendations\n",
    "def load_content_data():\n",
    "    \n",
    "    #load video games metadata\n",
    "    df = pd.read_csv('all_video_games(cleaned).csv')\n",
    "    \n",
    "    #Drop missing-value\n",
    "    df = df.dropna(subset=['Genres', 'Platforms', 'Publisher', 'User Score', 'Release Date', 'User Ratings Count'])\n",
    "    \n",
    "    #Change the user score data type to float as a numerical feature\n",
    "    df['User Score'] = df['User Score'].astype(float)\n",
    "    df['content'] = df['Genres'] + ' ' + df['Platforms'] + ' ' + df['Publisher']\n",
    "    return df\n",
    "\n",
    "\n",
    "\n"
   ]
  },
  {
   "cell_type": "code",
   "execution_count": 7,
   "id": "b61826f2-745d-4b58-bd28-0e6f0183f52f",
   "metadata": {},
   "outputs": [],
   "source": [
    "df_content = load_content_data()"
   ]
  },
  {
   "cell_type": "code",
   "execution_count": 9,
   "id": "aff82626-3836-4311-a6c2-e52959268f2a",
   "metadata": {},
   "outputs": [
    {
     "data": {
      "text/html": [
       "<div>\n",
       "<style scoped>\n",
       "    .dataframe tbody tr th:only-of-type {\n",
       "        vertical-align: middle;\n",
       "    }\n",
       "\n",
       "    .dataframe tbody tr th {\n",
       "        vertical-align: top;\n",
       "    }\n",
       "\n",
       "    .dataframe thead th {\n",
       "        text-align: right;\n",
       "    }\n",
       "</style>\n",
       "<table border=\"1\" class=\"dataframe\">\n",
       "  <thead>\n",
       "    <tr style=\"text-align: right;\">\n",
       "      <th></th>\n",
       "      <th>Title</th>\n",
       "      <th>Release Date</th>\n",
       "      <th>Developer</th>\n",
       "      <th>Publisher</th>\n",
       "      <th>Genres</th>\n",
       "      <th>Product Rating</th>\n",
       "      <th>User Score</th>\n",
       "      <th>User Ratings Count</th>\n",
       "      <th>Platforms</th>\n",
       "      <th>content</th>\n",
       "    </tr>\n",
       "  </thead>\n",
       "  <tbody>\n",
       "    <tr>\n",
       "      <th>0</th>\n",
       "      <td>Ziggurat (2012)</td>\n",
       "      <td>17/2/2012</td>\n",
       "      <td>Action Button Entertainment</td>\n",
       "      <td>Freshuu Inc.</td>\n",
       "      <td>Action</td>\n",
       "      <td>Not Rated</td>\n",
       "      <td>6.9</td>\n",
       "      <td>14.0</td>\n",
       "      <td>iOS (iPhone/iPad)</td>\n",
       "      <td>Action iOS (iPhone/iPad) Freshuu Inc.</td>\n",
       "    </tr>\n",
       "    <tr>\n",
       "      <th>3</th>\n",
       "      <td>Gothic 3</td>\n",
       "      <td>14/11/2006</td>\n",
       "      <td>Piranha Bytes</td>\n",
       "      <td>Aspyr</td>\n",
       "      <td>Western RPG</td>\n",
       "      <td>Rated T For Teen</td>\n",
       "      <td>7.5</td>\n",
       "      <td>832.0</td>\n",
       "      <td>PC</td>\n",
       "      <td>Western RPG PC Aspyr</td>\n",
       "    </tr>\n",
       "    <tr>\n",
       "      <th>4</th>\n",
       "      <td>Siege Survival: Gloria Victis</td>\n",
       "      <td>18/5/2021</td>\n",
       "      <td>FishTankStudio</td>\n",
       "      <td>Black Eye Games</td>\n",
       "      <td>RPG</td>\n",
       "      <td>Not Rated</td>\n",
       "      <td>6.5</td>\n",
       "      <td>10.0</td>\n",
       "      <td>PC</td>\n",
       "      <td>RPG PC Black Eye Games</td>\n",
       "    </tr>\n",
       "    <tr>\n",
       "      <th>5</th>\n",
       "      <td>Guitar Hero III: Legends of Rock</td>\n",
       "      <td>28/10/2007</td>\n",
       "      <td>Neversoft Entertainment</td>\n",
       "      <td>RedOctane</td>\n",
       "      <td>Rhythm</td>\n",
       "      <td>Rated T For Teen</td>\n",
       "      <td>8.4</td>\n",
       "      <td>144.0</td>\n",
       "      <td>Wii</td>\n",
       "      <td>Rhythm Wii RedOctane</td>\n",
       "    </tr>\n",
       "    <tr>\n",
       "      <th>7</th>\n",
       "      <td>Xenoraid</td>\n",
       "      <td>8/11/2016</td>\n",
       "      <td>10tons</td>\n",
       "      <td>10tons</td>\n",
       "      <td>Vertical Shoot-'Em-Up</td>\n",
       "      <td>Rated E +10 For Everyone +10</td>\n",
       "      <td>6.2</td>\n",
       "      <td>6.0</td>\n",
       "      <td>PlayStation 4</td>\n",
       "      <td>Vertical Shoot-'Em-Up PlayStation 4 10tons</td>\n",
       "    </tr>\n",
       "  </tbody>\n",
       "</table>\n",
       "</div>"
      ],
      "text/plain": [
       "                              Title Release Date                    Developer  \\\n",
       "0                   Ziggurat (2012)    17/2/2012  Action Button Entertainment   \n",
       "3                          Gothic 3   14/11/2006                Piranha Bytes   \n",
       "4     Siege Survival: Gloria Victis    18/5/2021               FishTankStudio   \n",
       "5  Guitar Hero III: Legends of Rock   28/10/2007      Neversoft Entertainment   \n",
       "7                          Xenoraid    8/11/2016                       10tons   \n",
       "\n",
       "         Publisher                 Genres                Product Rating  \\\n",
       "0     Freshuu Inc.                 Action                     Not Rated   \n",
       "3            Aspyr            Western RPG              Rated T For Teen   \n",
       "4  Black Eye Games                    RPG                     Not Rated   \n",
       "5        RedOctane                 Rhythm              Rated T For Teen   \n",
       "7           10tons  Vertical Shoot-'Em-Up  Rated E +10 For Everyone +10   \n",
       "\n",
       "   User Score  User Ratings Count          Platforms  \\\n",
       "0         6.9                14.0  iOS (iPhone/iPad)   \n",
       "3         7.5               832.0                 PC   \n",
       "4         6.5                10.0                 PC   \n",
       "5         8.4               144.0                Wii   \n",
       "7         6.2                 6.0      PlayStation 4   \n",
       "\n",
       "                                      content  \n",
       "0       Action iOS (iPhone/iPad) Freshuu Inc.  \n",
       "3                        Western RPG PC Aspyr  \n",
       "4                      RPG PC Black Eye Games  \n",
       "5                        Rhythm Wii RedOctane  \n",
       "7  Vertical Shoot-'Em-Up PlayStation 4 10tons  "
      ]
     },
     "execution_count": 9,
     "metadata": {},
     "output_type": "execute_result"
    }
   ],
   "source": [
    "df_content.head()"
   ]
  },
  {
   "cell_type": "code",
   "execution_count": 11,
   "id": "5094aceb-858d-4b0f-97f1-bcaae40aac26",
   "metadata": {},
   "outputs": [
    {
     "data": {
      "text/plain": [
       "(11252, 10)"
      ]
     },
     "execution_count": 11,
     "metadata": {},
     "output_type": "execute_result"
    }
   ],
   "source": [
    "df_content.shape"
   ]
  },
  {
   "cell_type": "code",
   "execution_count": 13,
   "id": "b758009b-5df4-4abf-9f5f-413c9eba4bf6",
   "metadata": {},
   "outputs": [
    {
     "name": "stdout",
     "output_type": "stream",
     "text": [
      "<class 'pandas.core.frame.DataFrame'>\n",
      "Index: 11252 entries, 0 to 14053\n",
      "Data columns (total 10 columns):\n",
      " #   Column              Non-Null Count  Dtype  \n",
      "---  ------              --------------  -----  \n",
      " 0   Title               11252 non-null  object \n",
      " 1   Release Date        11252 non-null  object \n",
      " 2   Developer           11252 non-null  object \n",
      " 3   Publisher           11252 non-null  object \n",
      " 4   Genres              11252 non-null  object \n",
      " 5   Product Rating      11252 non-null  object \n",
      " 6   User Score          11252 non-null  float64\n",
      " 7   User Ratings Count  11252 non-null  float64\n",
      " 8   Platforms           11252 non-null  object \n",
      " 9   content             11252 non-null  object \n",
      "dtypes: float64(2), object(8)\n",
      "memory usage: 967.0+ KB\n"
     ]
    }
   ],
   "source": [
    "# Check dataset information\n",
    "df_content.info()"
   ]
  },
  {
   "cell_type": "code",
   "execution_count": 15,
   "id": "15d78ec4-c022-4c9e-90bb-def31e65001f",
   "metadata": {},
   "outputs": [
    {
     "data": {
      "text/plain": [
       "Title                 0\n",
       "Release Date          0\n",
       "Developer             0\n",
       "Publisher             0\n",
       "Genres                0\n",
       "Product Rating        0\n",
       "User Score            0\n",
       "User Ratings Count    0\n",
       "Platforms             0\n",
       "content               0\n",
       "dtype: int64"
      ]
     },
     "execution_count": 15,
     "metadata": {},
     "output_type": "execute_result"
    }
   ],
   "source": [
    "# Check NaN value in columns\n",
    "df_content.isna().sum()"
   ]
  },
  {
   "cell_type": "code",
   "execution_count": 17,
   "id": "90846abb-95e4-4da5-9569-0bd22131ab1b",
   "metadata": {},
   "outputs": [],
   "source": [
    "# Load the data for correlation finder\n",
    "def load_correlation_data():\n",
    "     #load video games metadata\n",
    "    df = pd.read_csv('all_video_games(cleaned).csv')\n",
    "\n",
    "     #load User metadata\n",
    "    userset = pd.read_csv('User_Dataset.csv')\n",
    "\n",
    "    #merge both file based on Title\n",
    "    data = pd.merge(df, userset, on='Title').dropna()\n",
    "    return data\n",
    "\n",
    "\n",
    "\n"
   ]
  },
  {
   "cell_type": "code",
   "execution_count": 19,
   "id": "68caace0-b795-4a99-b9a5-572fb0734c83",
   "metadata": {},
   "outputs": [],
   "source": [
    "df_corr = load_correlation_data()"
   ]
  },
  {
   "cell_type": "code",
   "execution_count": 20,
   "id": "38739fee-5796-4c71-9abb-a9443b03b629",
   "metadata": {},
   "outputs": [
    {
     "data": {
      "text/html": [
       "<div>\n",
       "<style scoped>\n",
       "    .dataframe tbody tr th:only-of-type {\n",
       "        vertical-align: middle;\n",
       "    }\n",
       "\n",
       "    .dataframe tbody tr th {\n",
       "        vertical-align: top;\n",
       "    }\n",
       "\n",
       "    .dataframe thead th {\n",
       "        text-align: right;\n",
       "    }\n",
       "</style>\n",
       "<table border=\"1\" class=\"dataframe\">\n",
       "  <thead>\n",
       "    <tr style=\"text-align: right;\">\n",
       "      <th></th>\n",
       "      <th>Title</th>\n",
       "      <th>Release Date</th>\n",
       "      <th>Developer</th>\n",
       "      <th>Publisher</th>\n",
       "      <th>Genres</th>\n",
       "      <th>Product Rating</th>\n",
       "      <th>User Score</th>\n",
       "      <th>User Ratings Count</th>\n",
       "      <th>Platforms</th>\n",
       "      <th>user_id</th>\n",
       "      <th>user_score</th>\n",
       "    </tr>\n",
       "  </thead>\n",
       "  <tbody>\n",
       "    <tr>\n",
       "      <th>0</th>\n",
       "      <td>Ziggurat (2012)</td>\n",
       "      <td>17/2/2012</td>\n",
       "      <td>Action Button Entertainment</td>\n",
       "      <td>Freshuu Inc.</td>\n",
       "      <td>Action</td>\n",
       "      <td>Not Rated</td>\n",
       "      <td>6.9</td>\n",
       "      <td>14.0</td>\n",
       "      <td>iOS (iPhone/iPad)</td>\n",
       "      <td>user_9</td>\n",
       "      <td>3.01</td>\n",
       "    </tr>\n",
       "    <tr>\n",
       "      <th>1</th>\n",
       "      <td>Ziggurat (2012)</td>\n",
       "      <td>17/2/2012</td>\n",
       "      <td>Action Button Entertainment</td>\n",
       "      <td>Freshuu Inc.</td>\n",
       "      <td>Action</td>\n",
       "      <td>Not Rated</td>\n",
       "      <td>6.9</td>\n",
       "      <td>14.0</td>\n",
       "      <td>iOS (iPhone/iPad)</td>\n",
       "      <td>user_81</td>\n",
       "      <td>7.79</td>\n",
       "    </tr>\n",
       "    <tr>\n",
       "      <th>2</th>\n",
       "      <td>Ziggurat (2012)</td>\n",
       "      <td>17/2/2012</td>\n",
       "      <td>Action Button Entertainment</td>\n",
       "      <td>Freshuu Inc.</td>\n",
       "      <td>Action</td>\n",
       "      <td>Not Rated</td>\n",
       "      <td>6.9</td>\n",
       "      <td>14.0</td>\n",
       "      <td>iOS (iPhone/iPad)</td>\n",
       "      <td>user_66</td>\n",
       "      <td>8.31</td>\n",
       "    </tr>\n",
       "    <tr>\n",
       "      <th>3</th>\n",
       "      <td>Ziggurat (2012)</td>\n",
       "      <td>17/2/2012</td>\n",
       "      <td>Action Button Entertainment</td>\n",
       "      <td>Freshuu Inc.</td>\n",
       "      <td>Action</td>\n",
       "      <td>Not Rated</td>\n",
       "      <td>6.9</td>\n",
       "      <td>14.0</td>\n",
       "      <td>iOS (iPhone/iPad)</td>\n",
       "      <td>user_47</td>\n",
       "      <td>8.40</td>\n",
       "    </tr>\n",
       "    <tr>\n",
       "      <th>4</th>\n",
       "      <td>Ziggurat (2012)</td>\n",
       "      <td>17/2/2012</td>\n",
       "      <td>Action Button Entertainment</td>\n",
       "      <td>Freshuu Inc.</td>\n",
       "      <td>Action</td>\n",
       "      <td>Not Rated</td>\n",
       "      <td>6.9</td>\n",
       "      <td>14.0</td>\n",
       "      <td>iOS (iPhone/iPad)</td>\n",
       "      <td>user_49</td>\n",
       "      <td>2.72</td>\n",
       "    </tr>\n",
       "  </tbody>\n",
       "</table>\n",
       "</div>"
      ],
      "text/plain": [
       "             Title Release Date                    Developer     Publisher  \\\n",
       "0  Ziggurat (2012)    17/2/2012  Action Button Entertainment  Freshuu Inc.   \n",
       "1  Ziggurat (2012)    17/2/2012  Action Button Entertainment  Freshuu Inc.   \n",
       "2  Ziggurat (2012)    17/2/2012  Action Button Entertainment  Freshuu Inc.   \n",
       "3  Ziggurat (2012)    17/2/2012  Action Button Entertainment  Freshuu Inc.   \n",
       "4  Ziggurat (2012)    17/2/2012  Action Button Entertainment  Freshuu Inc.   \n",
       "\n",
       "   Genres Product Rating  User Score  User Ratings Count          Platforms  \\\n",
       "0  Action      Not Rated         6.9                14.0  iOS (iPhone/iPad)   \n",
       "1  Action      Not Rated         6.9                14.0  iOS (iPhone/iPad)   \n",
       "2  Action      Not Rated         6.9                14.0  iOS (iPhone/iPad)   \n",
       "3  Action      Not Rated         6.9                14.0  iOS (iPhone/iPad)   \n",
       "4  Action      Not Rated         6.9                14.0  iOS (iPhone/iPad)   \n",
       "\n",
       "   user_id  user_score  \n",
       "0   user_9        3.01  \n",
       "1  user_81        7.79  \n",
       "2  user_66        8.31  \n",
       "3  user_47        8.40  \n",
       "4  user_49        2.72  "
      ]
     },
     "execution_count": 20,
     "metadata": {},
     "output_type": "execute_result"
    }
   ],
   "source": [
    "df_corr.head()"
   ]
  },
  {
   "cell_type": "code",
   "execution_count": 23,
   "id": "346e9e73-d4c6-4f61-a99c-d09498918653",
   "metadata": {},
   "outputs": [
    {
     "data": {
      "text/plain": [
       "(169326, 11)"
      ]
     },
     "execution_count": 23,
     "metadata": {},
     "output_type": "execute_result"
    }
   ],
   "source": [
    "df_corr.shape"
   ]
  },
  {
   "cell_type": "code",
   "execution_count": 25,
   "id": "47d9188f-ccc1-4075-92c3-4fe563211fef",
   "metadata": {},
   "outputs": [
    {
     "name": "stdout",
     "output_type": "stream",
     "text": [
      "<class 'pandas.core.frame.DataFrame'>\n",
      "Index: 169326 entries, 0 to 217585\n",
      "Data columns (total 11 columns):\n",
      " #   Column              Non-Null Count   Dtype  \n",
      "---  ------              --------------   -----  \n",
      " 0   Title               169326 non-null  object \n",
      " 1   Release Date        169326 non-null  object \n",
      " 2   Developer           169326 non-null  object \n",
      " 3   Publisher           169326 non-null  object \n",
      " 4   Genres              169326 non-null  object \n",
      " 5   Product Rating      169326 non-null  object \n",
      " 6   User Score          169326 non-null  float64\n",
      " 7   User Ratings Count  169326 non-null  float64\n",
      " 8   Platforms           169326 non-null  object \n",
      " 9   user_id             169326 non-null  object \n",
      " 10  user_score          169326 non-null  float64\n",
      "dtypes: float64(3), object(8)\n",
      "memory usage: 15.5+ MB\n"
     ]
    }
   ],
   "source": [
    "# Check dataset information\n",
    "df_corr.info()"
   ]
  },
  {
   "cell_type": "code",
   "execution_count": 27,
   "id": "4fe96ecf-332c-4997-97bb-ddf077a99c46",
   "metadata": {},
   "outputs": [
    {
     "data": {
      "text/plain": [
       "Title                 0\n",
       "Release Date          0\n",
       "Developer             0\n",
       "Publisher             0\n",
       "Genres                0\n",
       "Product Rating        0\n",
       "User Score            0\n",
       "User Ratings Count    0\n",
       "Platforms             0\n",
       "user_id               0\n",
       "user_score            0\n",
       "dtype: int64"
      ]
     },
     "execution_count": 27,
     "metadata": {},
     "output_type": "execute_result"
    }
   ],
   "source": [
    "# Check NaN value in columns\n",
    "df_corr.isna().sum()"
   ]
  },
  {
   "cell_type": "markdown",
   "id": "247922d4-b348-422a-800f-0e7d4481cbf2",
   "metadata": {},
   "source": [
    "## Section 2 Features Generation"
   ]
  },
  {
   "cell_type": "markdown",
   "id": "9b00911a-e264-4dc4-8d48-36304a7e6916",
   "metadata": {},
   "source": [
    "2.1 Content Based Recommendations"
   ]
  },
  {
   "cell_type": "code",
   "execution_count": 31,
   "id": "ad7f6e18-2437-4972-a7ae-c886b92f1780",
   "metadata": {},
   "outputs": [],
   "source": [
    "#Function to recommend games based on cosine similarity\n",
    "def content_based_recommendations(game_name, num_recommendations=5):\n",
    "\n",
    "    #Vectorize the content using TfidVectorizer\n",
    "    vectorizer = TfidfVectorizer(stop_words='english')\n",
    "    content_matrix = vectorizer.fit_transform(df_content['content'])\n",
    "\n",
    "    try:\n",
    "        #Calculate the cosine similarity\n",
    "        cosine_sim = cosine_similarity(content_matrix, content_matrix)\n",
    "\n",
    "        #Get the index of the input game\n",
    "        idx = df_content[df_content['Title'].str.lower() == game_name.lower()].index[0]\n",
    "\n",
    "        #Get the similarity scores of all games with that game\n",
    "        sim_scores = list(enumerate(cosine_sim[idx]))\n",
    "\n",
    "        # Sort the games based on the similarity scores\n",
    "        sim_scores = sorted(sim_scores, key=lambda x: x[1], reverse=True)\n",
    "\n",
    "        # Get the scores of the 10 most similar games\n",
    "        sim_scores = sim_scores[1:11]\n",
    "\n",
    "        # Get the game indices\n",
    "        sim_indices = [i[0] for i in sim_scores[1:num_recommendations+1]]\n",
    "\n",
    "        #return the most similar games\n",
    "        return df_content.iloc[sim_indices][['Title', 'Genres', 'User Score', 'Platforms', 'Release Date']]\n",
    "    except IndexError:\n",
    "        return pd.DataFrame(columns=['Title', 'Genres', 'User Score'])"
   ]
  },
  {
   "cell_type": "code",
   "execution_count": 33,
   "id": "f3dad2ec-5020-485f-88ef-bb77d1143677",
   "metadata": {},
   "outputs": [
    {
     "data": {
      "text/html": [
       "<div>\n",
       "<style scoped>\n",
       "    .dataframe tbody tr th:only-of-type {\n",
       "        vertical-align: middle;\n",
       "    }\n",
       "\n",
       "    .dataframe tbody tr th {\n",
       "        vertical-align: top;\n",
       "    }\n",
       "\n",
       "    .dataframe thead th {\n",
       "        text-align: right;\n",
       "    }\n",
       "</style>\n",
       "<table border=\"1\" class=\"dataframe\">\n",
       "  <thead>\n",
       "    <tr style=\"text-align: right;\">\n",
       "      <th></th>\n",
       "      <th>Title</th>\n",
       "      <th>Genres</th>\n",
       "      <th>User Score</th>\n",
       "      <th>Platforms</th>\n",
       "      <th>Release Date</th>\n",
       "    </tr>\n",
       "  </thead>\n",
       "  <tbody>\n",
       "    <tr>\n",
       "      <th>8899</th>\n",
       "      <td>Valiant Hearts: The Great War</td>\n",
       "      <td>2D Platformer</td>\n",
       "      <td>8.2</td>\n",
       "      <td>PC</td>\n",
       "      <td>24/6/2014</td>\n",
       "    </tr>\n",
       "    <tr>\n",
       "      <th>197</th>\n",
       "      <td>Dark Void Zero</td>\n",
       "      <td>2D Platformer</td>\n",
       "      <td>5.7</td>\n",
       "      <td>PC</td>\n",
       "      <td>18/1/2010</td>\n",
       "    </tr>\n",
       "    <tr>\n",
       "      <th>291</th>\n",
       "      <td>Street Fighter X Mega Man</td>\n",
       "      <td>2D Platformer</td>\n",
       "      <td>7.8</td>\n",
       "      <td>PC</td>\n",
       "      <td>17/12/2012</td>\n",
       "    </tr>\n",
       "    <tr>\n",
       "      <th>4410</th>\n",
       "      <td>Bionic Commando: Rearmed</td>\n",
       "      <td>2D Platformer</td>\n",
       "      <td>7.9</td>\n",
       "      <td>PC</td>\n",
       "      <td>13/8/2008</td>\n",
       "    </tr>\n",
       "    <tr>\n",
       "      <th>2726</th>\n",
       "      <td>Skelattack</td>\n",
       "      <td>2D Platformer</td>\n",
       "      <td>6.4</td>\n",
       "      <td>PC</td>\n",
       "      <td>2/6/2020</td>\n",
       "    </tr>\n",
       "  </tbody>\n",
       "</table>\n",
       "</div>"
      ],
      "text/plain": [
       "                              Title         Genres  User Score Platforms  \\\n",
       "8899  Valiant Hearts: The Great War  2D Platformer         8.2        PC   \n",
       "197                  Dark Void Zero  2D Platformer         5.7        PC   \n",
       "291       Street Fighter X Mega Man  2D Platformer         7.8        PC   \n",
       "4410       Bionic Commando: Rearmed  2D Platformer         7.9        PC   \n",
       "2726                     Skelattack  2D Platformer         6.4        PC   \n",
       "\n",
       "     Release Date  \n",
       "8899    24/6/2014  \n",
       "197     18/1/2010  \n",
       "291    17/12/2012  \n",
       "4410    13/8/2008  \n",
       "2726     2/6/2020  "
      ]
     },
     "execution_count": 33,
     "metadata": {},
     "output_type": "execute_result"
    }
   ],
   "source": [
    "#obtain the game that has the similarity to user input e.g. Star Wars Episode III: Revenge of the Sith\n",
    "content_based_recommendations('Star Wars Episode III: Revenge of the Sith')"
   ]
  },
  {
   "cell_type": "markdown",
   "id": "9a825c2d-9025-40f8-ab2b-38f51bca58f4",
   "metadata": {},
   "source": [
    "2.2 KnowledgeBasedGamesRecommendation"
   ]
  },
  {
   "cell_type": "code",
   "execution_count": 35,
   "id": "3039ce7d-a8cf-4075-8b67-57e7affb6be5",
   "metadata": {},
   "outputs": [
    {
     "ename": "FileNotFoundError",
     "evalue": "[Errno 2] No such file or directory: 'C:\\\\Users\\\\User\\\\Downloads\\\\Ai_Assignment\\\\all_video_games(cleaned).csv'",
     "output_type": "error",
     "traceback": [
      "\u001b[1;31m---------------------------------------------------------------------------\u001b[0m",
      "\u001b[1;31mFileNotFoundError\u001b[0m                         Traceback (most recent call last)",
      "Cell \u001b[1;32mIn[35], line 3\u001b[0m\n\u001b[0;32m      1\u001b[0m \u001b[38;5;66;03m# Load the dataset from a file\u001b[39;00m\n\u001b[0;32m      2\u001b[0m file_path \u001b[38;5;241m=\u001b[39m \u001b[38;5;124mr\u001b[39m\u001b[38;5;124m'\u001b[39m\u001b[38;5;124mC:\u001b[39m\u001b[38;5;124m\\\u001b[39m\u001b[38;5;124mUsers\u001b[39m\u001b[38;5;124m\\\u001b[39m\u001b[38;5;124mUser\u001b[39m\u001b[38;5;124m\\\u001b[39m\u001b[38;5;124mDownloads\u001b[39m\u001b[38;5;124m\\\u001b[39m\u001b[38;5;124mAi_Assignment\u001b[39m\u001b[38;5;124m\\\u001b[39m\u001b[38;5;124mall_video_games(cleaned).csv\u001b[39m\u001b[38;5;124m'\u001b[39m  \u001b[38;5;66;03m# Replace with your file path\u001b[39;00m\n\u001b[1;32m----> 3\u001b[0m df_uploaded \u001b[38;5;241m=\u001b[39m pd\u001b[38;5;241m.\u001b[39mread_csv(file_path)\n\u001b[0;32m      5\u001b[0m \u001b[38;5;66;03m# Filter options\u001b[39;00m\n\u001b[0;32m      6\u001b[0m preferred_genre \u001b[38;5;241m=\u001b[39m \u001b[38;5;28minput\u001b[39m(\u001b[38;5;124m\"\u001b[39m\u001b[38;5;124mEnter your preferred genre (e.g., Action): \u001b[39m\u001b[38;5;124m\"\u001b[39m)\n",
      "File \u001b[1;32m~\\anaconda3\\Lib\\site-packages\\pandas\\io\\parsers\\readers.py:1026\u001b[0m, in \u001b[0;36mread_csv\u001b[1;34m(filepath_or_buffer, sep, delimiter, header, names, index_col, usecols, dtype, engine, converters, true_values, false_values, skipinitialspace, skiprows, skipfooter, nrows, na_values, keep_default_na, na_filter, verbose, skip_blank_lines, parse_dates, infer_datetime_format, keep_date_col, date_parser, date_format, dayfirst, cache_dates, iterator, chunksize, compression, thousands, decimal, lineterminator, quotechar, quoting, doublequote, escapechar, comment, encoding, encoding_errors, dialect, on_bad_lines, delim_whitespace, low_memory, memory_map, float_precision, storage_options, dtype_backend)\u001b[0m\n\u001b[0;32m   1013\u001b[0m kwds_defaults \u001b[38;5;241m=\u001b[39m _refine_defaults_read(\n\u001b[0;32m   1014\u001b[0m     dialect,\n\u001b[0;32m   1015\u001b[0m     delimiter,\n\u001b[1;32m   (...)\u001b[0m\n\u001b[0;32m   1022\u001b[0m     dtype_backend\u001b[38;5;241m=\u001b[39mdtype_backend,\n\u001b[0;32m   1023\u001b[0m )\n\u001b[0;32m   1024\u001b[0m kwds\u001b[38;5;241m.\u001b[39mupdate(kwds_defaults)\n\u001b[1;32m-> 1026\u001b[0m \u001b[38;5;28;01mreturn\u001b[39;00m _read(filepath_or_buffer, kwds)\n",
      "File \u001b[1;32m~\\anaconda3\\Lib\\site-packages\\pandas\\io\\parsers\\readers.py:620\u001b[0m, in \u001b[0;36m_read\u001b[1;34m(filepath_or_buffer, kwds)\u001b[0m\n\u001b[0;32m    617\u001b[0m _validate_names(kwds\u001b[38;5;241m.\u001b[39mget(\u001b[38;5;124m\"\u001b[39m\u001b[38;5;124mnames\u001b[39m\u001b[38;5;124m\"\u001b[39m, \u001b[38;5;28;01mNone\u001b[39;00m))\n\u001b[0;32m    619\u001b[0m \u001b[38;5;66;03m# Create the parser.\u001b[39;00m\n\u001b[1;32m--> 620\u001b[0m parser \u001b[38;5;241m=\u001b[39m TextFileReader(filepath_or_buffer, \u001b[38;5;241m*\u001b[39m\u001b[38;5;241m*\u001b[39mkwds)\n\u001b[0;32m    622\u001b[0m \u001b[38;5;28;01mif\u001b[39;00m chunksize \u001b[38;5;129;01mor\u001b[39;00m iterator:\n\u001b[0;32m    623\u001b[0m     \u001b[38;5;28;01mreturn\u001b[39;00m parser\n",
      "File \u001b[1;32m~\\anaconda3\\Lib\\site-packages\\pandas\\io\\parsers\\readers.py:1620\u001b[0m, in \u001b[0;36mTextFileReader.__init__\u001b[1;34m(self, f, engine, **kwds)\u001b[0m\n\u001b[0;32m   1617\u001b[0m     \u001b[38;5;28mself\u001b[39m\u001b[38;5;241m.\u001b[39moptions[\u001b[38;5;124m\"\u001b[39m\u001b[38;5;124mhas_index_names\u001b[39m\u001b[38;5;124m\"\u001b[39m] \u001b[38;5;241m=\u001b[39m kwds[\u001b[38;5;124m\"\u001b[39m\u001b[38;5;124mhas_index_names\u001b[39m\u001b[38;5;124m\"\u001b[39m]\n\u001b[0;32m   1619\u001b[0m \u001b[38;5;28mself\u001b[39m\u001b[38;5;241m.\u001b[39mhandles: IOHandles \u001b[38;5;241m|\u001b[39m \u001b[38;5;28;01mNone\u001b[39;00m \u001b[38;5;241m=\u001b[39m \u001b[38;5;28;01mNone\u001b[39;00m\n\u001b[1;32m-> 1620\u001b[0m \u001b[38;5;28mself\u001b[39m\u001b[38;5;241m.\u001b[39m_engine \u001b[38;5;241m=\u001b[39m \u001b[38;5;28mself\u001b[39m\u001b[38;5;241m.\u001b[39m_make_engine(f, \u001b[38;5;28mself\u001b[39m\u001b[38;5;241m.\u001b[39mengine)\n",
      "File \u001b[1;32m~\\anaconda3\\Lib\\site-packages\\pandas\\io\\parsers\\readers.py:1880\u001b[0m, in \u001b[0;36mTextFileReader._make_engine\u001b[1;34m(self, f, engine)\u001b[0m\n\u001b[0;32m   1878\u001b[0m     \u001b[38;5;28;01mif\u001b[39;00m \u001b[38;5;124m\"\u001b[39m\u001b[38;5;124mb\u001b[39m\u001b[38;5;124m\"\u001b[39m \u001b[38;5;129;01mnot\u001b[39;00m \u001b[38;5;129;01min\u001b[39;00m mode:\n\u001b[0;32m   1879\u001b[0m         mode \u001b[38;5;241m+\u001b[39m\u001b[38;5;241m=\u001b[39m \u001b[38;5;124m\"\u001b[39m\u001b[38;5;124mb\u001b[39m\u001b[38;5;124m\"\u001b[39m\n\u001b[1;32m-> 1880\u001b[0m \u001b[38;5;28mself\u001b[39m\u001b[38;5;241m.\u001b[39mhandles \u001b[38;5;241m=\u001b[39m get_handle(\n\u001b[0;32m   1881\u001b[0m     f,\n\u001b[0;32m   1882\u001b[0m     mode,\n\u001b[0;32m   1883\u001b[0m     encoding\u001b[38;5;241m=\u001b[39m\u001b[38;5;28mself\u001b[39m\u001b[38;5;241m.\u001b[39moptions\u001b[38;5;241m.\u001b[39mget(\u001b[38;5;124m\"\u001b[39m\u001b[38;5;124mencoding\u001b[39m\u001b[38;5;124m\"\u001b[39m, \u001b[38;5;28;01mNone\u001b[39;00m),\n\u001b[0;32m   1884\u001b[0m     compression\u001b[38;5;241m=\u001b[39m\u001b[38;5;28mself\u001b[39m\u001b[38;5;241m.\u001b[39moptions\u001b[38;5;241m.\u001b[39mget(\u001b[38;5;124m\"\u001b[39m\u001b[38;5;124mcompression\u001b[39m\u001b[38;5;124m\"\u001b[39m, \u001b[38;5;28;01mNone\u001b[39;00m),\n\u001b[0;32m   1885\u001b[0m     memory_map\u001b[38;5;241m=\u001b[39m\u001b[38;5;28mself\u001b[39m\u001b[38;5;241m.\u001b[39moptions\u001b[38;5;241m.\u001b[39mget(\u001b[38;5;124m\"\u001b[39m\u001b[38;5;124mmemory_map\u001b[39m\u001b[38;5;124m\"\u001b[39m, \u001b[38;5;28;01mFalse\u001b[39;00m),\n\u001b[0;32m   1886\u001b[0m     is_text\u001b[38;5;241m=\u001b[39mis_text,\n\u001b[0;32m   1887\u001b[0m     errors\u001b[38;5;241m=\u001b[39m\u001b[38;5;28mself\u001b[39m\u001b[38;5;241m.\u001b[39moptions\u001b[38;5;241m.\u001b[39mget(\u001b[38;5;124m\"\u001b[39m\u001b[38;5;124mencoding_errors\u001b[39m\u001b[38;5;124m\"\u001b[39m, \u001b[38;5;124m\"\u001b[39m\u001b[38;5;124mstrict\u001b[39m\u001b[38;5;124m\"\u001b[39m),\n\u001b[0;32m   1888\u001b[0m     storage_options\u001b[38;5;241m=\u001b[39m\u001b[38;5;28mself\u001b[39m\u001b[38;5;241m.\u001b[39moptions\u001b[38;5;241m.\u001b[39mget(\u001b[38;5;124m\"\u001b[39m\u001b[38;5;124mstorage_options\u001b[39m\u001b[38;5;124m\"\u001b[39m, \u001b[38;5;28;01mNone\u001b[39;00m),\n\u001b[0;32m   1889\u001b[0m )\n\u001b[0;32m   1890\u001b[0m \u001b[38;5;28;01massert\u001b[39;00m \u001b[38;5;28mself\u001b[39m\u001b[38;5;241m.\u001b[39mhandles \u001b[38;5;129;01mis\u001b[39;00m \u001b[38;5;129;01mnot\u001b[39;00m \u001b[38;5;28;01mNone\u001b[39;00m\n\u001b[0;32m   1891\u001b[0m f \u001b[38;5;241m=\u001b[39m \u001b[38;5;28mself\u001b[39m\u001b[38;5;241m.\u001b[39mhandles\u001b[38;5;241m.\u001b[39mhandle\n",
      "File \u001b[1;32m~\\anaconda3\\Lib\\site-packages\\pandas\\io\\common.py:873\u001b[0m, in \u001b[0;36mget_handle\u001b[1;34m(path_or_buf, mode, encoding, compression, memory_map, is_text, errors, storage_options)\u001b[0m\n\u001b[0;32m    868\u001b[0m \u001b[38;5;28;01melif\u001b[39;00m \u001b[38;5;28misinstance\u001b[39m(handle, \u001b[38;5;28mstr\u001b[39m):\n\u001b[0;32m    869\u001b[0m     \u001b[38;5;66;03m# Check whether the filename is to be opened in binary mode.\u001b[39;00m\n\u001b[0;32m    870\u001b[0m     \u001b[38;5;66;03m# Binary mode does not support 'encoding' and 'newline'.\u001b[39;00m\n\u001b[0;32m    871\u001b[0m     \u001b[38;5;28;01mif\u001b[39;00m ioargs\u001b[38;5;241m.\u001b[39mencoding \u001b[38;5;129;01mand\u001b[39;00m \u001b[38;5;124m\"\u001b[39m\u001b[38;5;124mb\u001b[39m\u001b[38;5;124m\"\u001b[39m \u001b[38;5;129;01mnot\u001b[39;00m \u001b[38;5;129;01min\u001b[39;00m ioargs\u001b[38;5;241m.\u001b[39mmode:\n\u001b[0;32m    872\u001b[0m         \u001b[38;5;66;03m# Encoding\u001b[39;00m\n\u001b[1;32m--> 873\u001b[0m         handle \u001b[38;5;241m=\u001b[39m \u001b[38;5;28mopen\u001b[39m(\n\u001b[0;32m    874\u001b[0m             handle,\n\u001b[0;32m    875\u001b[0m             ioargs\u001b[38;5;241m.\u001b[39mmode,\n\u001b[0;32m    876\u001b[0m             encoding\u001b[38;5;241m=\u001b[39mioargs\u001b[38;5;241m.\u001b[39mencoding,\n\u001b[0;32m    877\u001b[0m             errors\u001b[38;5;241m=\u001b[39merrors,\n\u001b[0;32m    878\u001b[0m             newline\u001b[38;5;241m=\u001b[39m\u001b[38;5;124m\"\u001b[39m\u001b[38;5;124m\"\u001b[39m,\n\u001b[0;32m    879\u001b[0m         )\n\u001b[0;32m    880\u001b[0m     \u001b[38;5;28;01melse\u001b[39;00m:\n\u001b[0;32m    881\u001b[0m         \u001b[38;5;66;03m# Binary mode\u001b[39;00m\n\u001b[0;32m    882\u001b[0m         handle \u001b[38;5;241m=\u001b[39m \u001b[38;5;28mopen\u001b[39m(handle, ioargs\u001b[38;5;241m.\u001b[39mmode)\n",
      "\u001b[1;31mFileNotFoundError\u001b[0m: [Errno 2] No such file or directory: 'C:\\\\Users\\\\User\\\\Downloads\\\\Ai_Assignment\\\\all_video_games(cleaned).csv'"
     ]
    }
   ],
   "source": [
    "# Load the dataset from a file\n",
    "file_path = r'C:\\Users\\User\\Downloads\\Ai_Assignment\\all_video_games(cleaned).csv'  # Replace with your file path\n",
    "df_uploaded = pd.read_csv(file_path)\n",
    "\n",
    "# Filter options\n",
    "preferred_genre = input(\"Enter your preferred genre (e.g., Action): \")\n",
    "min_user_score = float(input(\"Enter the minimum user score (0.0 to 10.0): \"))\n",
    "\n",
    "# Function to recommend games based on file upload and filters\n",
    "def recommend_games(df, preferences):\n",
    "    genre_filter = df['Genres'].str.contains(preferences['Genres'], case=False, na=False)\n",
    "    score_filter = df['User Score'] >= preferences['Minimum User Score']\n",
    "    filtered_df = df[genre_filter & score_filter]\n",
    "    return filtered_df\n",
    "\n",
    "# Get recommendations\n",
    "recommended_games = recommend_games(df_uploaded, {'Genres': preferred_genre, 'Minimum User Score': min_user_score})\n",
    "\n",
    "if not recommended_games.empty:\n",
    "    top_10_games = recommended_games.head(10)\n",
    "    print(\"### Top 10 Recommended Games\")\n",
    "    print(top_10_games)\n",
    "else:\n",
    "    print(\"No games match your preferences. Try adjusting the genre or score.\")\n"
   ]
  },
  {
   "cell_type": "markdown",
   "id": "424f5276-45d7-42e4-849f-a6f3f74fb604",
   "metadata": {},
   "source": [
    "2.3 Collaborative_Filtering"
   ]
  },
  {
   "cell_type": "code",
   "execution_count": null,
   "id": "112b3e1d-a8cd-4c63-adbc-f1583ba7246b",
   "metadata": {},
   "outputs": [],
   "source": [
    "# Load the correlation data\n",
    "data = load_correlation_data()\n",
    "\n",
    "# Create the score matrix\n",
    "score_matrix = data.pivot_table(index='user_id', columns='Title', values='user_score', fill_value=0)\n",
    "\n",
    "# Get game correlation\n",
    "game_title = input(\"Enter a game title to find its correlation: \")\n",
    "\n",
    "if game_title:\n",
    "    game_user_score = score_matrix[game_title]\n",
    "    similar_to_game = score_matrix.corrwith(game_user_score)\n",
    "    corr_drive = pd.DataFrame(similar_to_game, columns=['Correlation']).dropna()\n",
    "    \n",
    "    print(f\"### Games correlated with '{game_title}':\")\n",
    "    print(corr_drive.sort_values('Correlation', ascending=False).head(10))\n",
    "else:\n",
    "    print(\"Please select a game title.\")\n"
   ]
  },
  {
   "cell_type": "code",
   "execution_count": null,
   "id": "b603ac33-3dca-4daa-b839-5919e393d090",
   "metadata": {},
   "outputs": [],
   "source": [
    "import matplotlib.pyplot as plt \n",
    "import seaborn as sns \n",
    "  \n",
    "sns.set_style('white') \n",
    "%matplotlib inline \n",
    " \n",
    "# plot graph of 'num of ratings column' \n",
    "plt.figure(figsize =(20, 4)) \n",
    "  \n",
    "data['Product Rating'].hist(bins = 60) "
   ]
  },
  {
   "cell_type": "code",
   "execution_count": null,
   "id": "6f41689b-e362-4d89-937b-a6885a2a8cbd",
   "metadata": {},
   "outputs": [],
   "source": []
  }
 ],
 "metadata": {
  "kernelspec": {
   "display_name": "Python 3 (ipykernel)",
   "language": "python",
   "name": "python3"
  },
  "language_info": {
   "codemirror_mode": {
    "name": "ipython",
    "version": 3
   },
   "file_extension": ".py",
   "mimetype": "text/x-python",
   "name": "python",
   "nbconvert_exporter": "python",
   "pygments_lexer": "ipython3",
   "version": "3.12.4"
  }
 },
 "nbformat": 4,
 "nbformat_minor": 5
}
